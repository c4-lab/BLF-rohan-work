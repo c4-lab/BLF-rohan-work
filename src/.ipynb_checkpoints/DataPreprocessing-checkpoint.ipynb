{
 "cells": [
  {
   "cell_type": "code",
   "execution_count": 2,
   "id": "signed-pressure",
   "metadata": {},
   "outputs": [],
   "source": [
    "import pandas as pd\n",
    "#df = pd.read_csv(\"testbed1.csv\")"
   ]
  },
  {
   "cell_type": "code",
   "execution_count": 3,
   "id": "vanilla-civilian",
   "metadata": {},
   "outputs": [
    {
     "data": {
      "text/plain": [
       "<spacy_langdetect.spacy_langdetect.LanguageDetector at 0x17194c850>"
      ]
     },
     "execution_count": 3,
     "metadata": {},
     "output_type": "execute_result"
    }
   ],
   "source": [
    "import spacy\n",
    "from spacy_langdetect import LanguageDetector\n",
    "from spacy.language import Language\n",
    "nlp = spacy.load('en_core_web_lg')\n",
    "@Language.factory('language_detector')\n",
    "def language_detector(nlp, name):\n",
    "    return LanguageDetector()\n",
    "nlp.add_pipe('language_detector')"
   ]
  },
  {
   "cell_type": "code",
   "execution_count": 3,
   "id": "robust-substance",
   "metadata": {},
   "outputs": [],
   "source": [
    "data = df['full_tweet_text'].to_list()"
   ]
  },
  {
   "cell_type": "code",
   "execution_count": 4,
   "id": "sudden-charger",
   "metadata": {},
   "outputs": [],
   "source": [
    "isEnglish = []\n",
    "for text in data:\n",
    "    doc = nlp(text)\n",
    "    if doc._.language['score']>0.95:\n",
    "        isEnglish.append(True)\n",
    "    else:\n",
    "        isEnglish.append(False)"
   ]
  },
  {
   "cell_type": "code",
   "execution_count": 6,
   "id": "active-boards",
   "metadata": {},
   "outputs": [],
   "source": [
    "df['iseng'] = isEnglish"
   ]
  },
  {
   "cell_type": "code",
   "execution_count": 8,
   "id": "terminal-control",
   "metadata": {},
   "outputs": [],
   "source": [
    "df = df[df['iseng'] == True]"
   ]
  },
  {
   "cell_type": "code",
   "execution_count": 78,
   "id": "sensitive-classic",
   "metadata": {},
   "outputs": [
    {
     "data": {
      "text/plain": [
       "\"Agree . Nature will do what nature does. Like humans trying to change the climate. FoolsErrand GavinNewsom admits face masks don't work. They were required in all those places. And they did not stop the spread. And they won't. 8% have 🦇 Flu: 6K of 3.2M in CA have died 0.014%\""
      ]
     },
     "execution_count": 78,
     "metadata": {},
     "output_type": "execute_result"
    }
   ],
   "source": [
    "import sys\n",
    "from allTokens import *\n",
    "import os\n",
    "import time\n",
    "import pandas as pd\n",
    "from langdetect import detect\n",
    "\n",
    "extraChar = {'&quot;': '\"',\n",
    " '&amp;': 'and',\n",
    " '&lt;': '<',\n",
    " '&gt;': '>',\n",
    " '&nbsp;': 'un-linebreak-able space',\n",
    " '&iexcl;': '¡',\n",
    " '&cent;': '¢',\n",
    " '&pound;': '£',\n",
    " '&curren;': '¤',\n",
    " '&yen;': '¥',\n",
    " '&brvbar;': '¦',\n",
    " '&sect;': '§',\n",
    " '&uml;': '¨',\n",
    " '&copy;': '©',\n",
    " '&ordf;': 'ª',\n",
    " '&laquo;': '«',\n",
    " '&not;': '¬',\n",
    " '&shy;': '\\xad',\n",
    " '&reg;': '®',\n",
    " '&macr;': '¯',\n",
    " '&deg;': '°',\n",
    " '&plusmn;': '±',\n",
    " '&sup2': '²',\n",
    " '&sup3;': '³',\n",
    " '&acute;': '´',\n",
    " '&micro;': 'µ',\n",
    " '&para;': '¶',\n",
    " '&middot;': '·',\n",
    " '&cedil;': '¸',\n",
    " '&sup1;': '¹',\n",
    " '&ordm;': 'º',\n",
    " '&raquo;': '»',\n",
    " '&frac14;': '¼',\n",
    " '&frac12;': '½',\n",
    " '&frac34;': '¾',\n",
    " '&iquest;': '¿',\n",
    " '&times;': '×',\n",
    " '&divide;': '÷',\n",
    " '&ETH;': 'Ð',\n",
    " '&eth;': 'ð',\n",
    " '&THORN;': 'Þ',\n",
    " '&thorn;': 'þ',\n",
    " '&AElig;': 'Æ',\n",
    " '&aelig;': 'æ',\n",
    " '&OElig;': 'Œ',\n",
    " '&oelig;': 'œ',\n",
    " '&Aring;': 'Å',\n",
    " '&Oslash;': 'Ø',\n",
    " '&Ccedil;': 'Ç',\n",
    " '&ccedil;': 'ç',\n",
    " '&szlig;': 'ß',\n",
    " '&Ntilde;': 'Ñ',\n",
    " '&ntilde;': 'ñ'}\n",
    "\n",
    "special = {\n",
    "    \"’\":\"'\",\n",
    "    \"‘\":\"'\",\n",
    "    \"`\":\"'\",\n",
    "    '“':'\"',\n",
    "    '”':'\"',\n",
    "    '…':\".\"\n",
    "}\n",
    "        \n",
    "def removeTags(text,splitter):\n",
    "    div = text.split(splitter)\n",
    "    endExists = True\n",
    "    i = len(div)-1\n",
    "    while i>=0 and endExists:\n",
    "        if len(div[i].strip().split(\" \"))  == 1:\n",
    "            div.pop(i)\n",
    "            i-=1\n",
    "        else:\n",
    "            endExists = False\n",
    "        \n",
    "    return \" \"+splitter.join(div).strip()\n",
    "\n",
    "def removeTagsFromStart(text,splitter):\n",
    "    div = text.split(splitter)\n",
    "    endExists = True\n",
    "    i = 0\n",
    "    while len(div)>0 and endExists:\n",
    "        if len(div[i].strip().split(\" \"))  == 1:\n",
    "            div=div[i+1:]\n",
    "        else:\n",
    "            div[i] = splitter+div[i]\n",
    "            endExists = False\n",
    "    if len(div) == 0:\n",
    "        return ''\n",
    "    splitfirst = div[0].split(\" \")\n",
    "    if \"you\" in splitfirst[1].lower() and \"@\" in splitfirst[0]:\n",
    "        splitfirst[1] = splitfirst[0]\n",
    "        splitfirst = splitfirst[1:]\n",
    "        div[0] = \" \".join(splitfirst)\n",
    "    if \"@\" in splitfirst[0].strip()[0:2]:\n",
    "        splitfirst = splitfirst[1:]\n",
    "        div[0] = \" \".join(splitfirst)\n",
    "    return \" \".join(div).strip()\n",
    "\n",
    "\n",
    "def removeRT(text):\n",
    "    if text[0:2] == 'RT':\n",
    "        return \":\".join(text.split(\":\")[1:]).strip()\n",
    "    return text  \n",
    "\n",
    "def isEnglish(s):\n",
    "    try:\n",
    "        return(detect(s) == 'en')\n",
    "    except:\n",
    "        return('')\n",
    "\n",
    "def cleanTweet(text,removeFromMiddle):\n",
    "    text = text.strip()\n",
    "    for key,value in abbr_dict.items():\n",
    "        text = re.sub(key,value,text)\n",
    "    for key,value in extraChar.items():\n",
    "        text = re.sub(key,value,text)\n",
    "    for key,value in special.items():\n",
    "        text = re.sub(key,value,text)\n",
    "        #print(text)\n",
    "    if removeFromMiddle:\n",
    "        text = re.sub(\"@[A-Za-z0-9_]+\",\"\", text)\n",
    "        text = re.sub(\"#[A-Za-z0-9_]+\",\"\", text)\n",
    "    text = re.sub(r\"http\\S+\", \"\", text)\n",
    "    text = emoji_pattern.sub(r' ', text)\n",
    "    text = removeTags(text,\"#\")\n",
    "    text = removeTags(text,\"@\")\n",
    "    text = removeTags(text,\"#\")\n",
    "    text = removeTagsFromStart(text,\"@\")\n",
    "    text = removeRT(text)\n",
    "    text = re.sub(' +', ' ', text)\n",
    "    text = re.sub(\"@\",'',text)\n",
    "    text = re.sub(\"#\",'',text)\n",
    "    text = re.sub(r'[\\n\\r]+',r'\\n',text)\n",
    "    text = re.sub('(?<![.?!])\\n',\". \",text)\n",
    "    text = re.sub('\\n',\" \",text)\n",
    "    #text = ' '.join(text.replace('\\r', ' ').split())\n",
    "    text = re.sub(\"\\s+\",\" \",text)\n",
    "    #text = re.sub(r\"[^A-Za-z.!?'', ]\",'',text)\n",
    "    \n",
    "    if not isEnglish(text):\n",
    "        return ''\n",
    "    return text.strip()\n",
    "\n",
    "\n",
    "txt ='''Agree … Nature will do what nature does. Like humans trying to change the climate. #FoolsErrand @GavinNewsom admits face masks don’t work. They were required in all those places. And they did not stop the spread. And they won’t.  8% have 🦇 Flu: 6K of 3.2M in CA have died 0.014%'''\n",
    "cleanTweet(txt,False)\n"
   ]
  },
  {
   "cell_type": "code",
   "execution_count": 69,
   "id": "included-compensation",
   "metadata": {},
   "outputs": [
    {
     "data": {
      "text/plain": [
       "'The West Coast wildfires are what environmental injustice looks like. Only those who can afford air conditioners &amp; purifiers are able to escape the smoke. This is why we won’t stop fighting for a just, livable world for everyone. Our health depends on it. https://t.co/z58ZpkUvJ2'"
      ]
     },
     "execution_count": 69,
     "metadata": {},
     "output_type": "execute_result"
    }
   ],
   "source": [
    "txt ='''The West Coast wildfires are what environmental injustice looks like. Only those who can afford air conditioners &amp; purifiers are able to escape the smoke.\n",
    "\n",
    "This is why we won’t stop fighting for a just, livable world for everyone. Our health depends on it. https://t.co/z58ZpkUvJ2'''\n",
    "#txt.replace(r'(?<![.?!])\\n+',\". \")\n",
    "t = re.sub('[\\n\\r]+','\\n',txt)\n",
    "#re.sub('[\\n\\r]+',\". \",txt)\n",
    "t = re.sub('(?<![.?!])\\n',\". \",t)\n",
    "re.sub('\\n',\" \",t)\n"
   ]
  },
  {
   "cell_type": "code",
   "execution_count": 53,
   "id": "decreased-think",
   "metadata": {},
   "outputs": [
    {
     "ename": "TypeError",
     "evalue": "cleanTweet() missing 1 required positional argument: 'removeFromMiddle'",
     "output_type": "error",
     "traceback": [
      "\u001b[0;31m---------------------------------------------------------------------------\u001b[0m",
      "\u001b[0;31mTypeError\u001b[0m                                 Traceback (most recent call last)",
      "\u001b[0;32m<ipython-input-53-902ad648ca67>\u001b[0m in \u001b[0;36m<module>\u001b[0;34m\u001b[0m\n\u001b[0;32m----> 1\u001b[0;31m \u001b[0mdf\u001b[0m\u001b[0;34m[\u001b[0m\u001b[0;34m'cleantxt'\u001b[0m\u001b[0;34m]\u001b[0m \u001b[0;34m=\u001b[0m \u001b[0mdf\u001b[0m\u001b[0;34m[\u001b[0m\u001b[0;34m'full_tweet_text'\u001b[0m\u001b[0;34m]\u001b[0m\u001b[0;34m.\u001b[0m\u001b[0mapply\u001b[0m\u001b[0;34m(\u001b[0m\u001b[0mcleanTweet\u001b[0m\u001b[0;34m,\u001b[0m\u001b[0;32mFalse\u001b[0m\u001b[0;34m)\u001b[0m\u001b[0;34m\u001b[0m\u001b[0;34m\u001b[0m\u001b[0m\n\u001b[0m",
      "\u001b[0;32m~/.local/lib/python3.7/site-packages/pandas/core/series.py\u001b[0m in \u001b[0;36mapply\u001b[0;34m(self, func, convert_dtype, args, **kwargs)\u001b[0m\n\u001b[1;32m   4355\u001b[0m         \u001b[0mdtype\u001b[0m\u001b[0;34m:\u001b[0m \u001b[0mfloat64\u001b[0m\u001b[0;34m\u001b[0m\u001b[0;34m\u001b[0m\u001b[0m\n\u001b[1;32m   4356\u001b[0m         \"\"\"\n\u001b[0;32m-> 4357\u001b[0;31m         \u001b[0;32mreturn\u001b[0m \u001b[0mSeriesApply\u001b[0m\u001b[0;34m(\u001b[0m\u001b[0mself\u001b[0m\u001b[0;34m,\u001b[0m \u001b[0mfunc\u001b[0m\u001b[0;34m,\u001b[0m \u001b[0mconvert_dtype\u001b[0m\u001b[0;34m,\u001b[0m \u001b[0margs\u001b[0m\u001b[0;34m,\u001b[0m \u001b[0mkwargs\u001b[0m\u001b[0;34m)\u001b[0m\u001b[0;34m.\u001b[0m\u001b[0mapply\u001b[0m\u001b[0;34m(\u001b[0m\u001b[0;34m)\u001b[0m\u001b[0;34m\u001b[0m\u001b[0;34m\u001b[0m\u001b[0m\n\u001b[0m\u001b[1;32m   4358\u001b[0m \u001b[0;34m\u001b[0m\u001b[0m\n\u001b[1;32m   4359\u001b[0m     def _reduce(\n",
      "\u001b[0;32m~/.local/lib/python3.7/site-packages/pandas/core/apply.py\u001b[0m in \u001b[0;36mapply\u001b[0;34m(self)\u001b[0m\n\u001b[1;32m   1041\u001b[0m             \u001b[0;32mreturn\u001b[0m \u001b[0mself\u001b[0m\u001b[0;34m.\u001b[0m\u001b[0mapply_str\u001b[0m\u001b[0;34m(\u001b[0m\u001b[0;34m)\u001b[0m\u001b[0;34m\u001b[0m\u001b[0;34m\u001b[0m\u001b[0m\n\u001b[1;32m   1042\u001b[0m \u001b[0;34m\u001b[0m\u001b[0m\n\u001b[0;32m-> 1043\u001b[0;31m         \u001b[0;32mreturn\u001b[0m \u001b[0mself\u001b[0m\u001b[0;34m.\u001b[0m\u001b[0mapply_standard\u001b[0m\u001b[0;34m(\u001b[0m\u001b[0;34m)\u001b[0m\u001b[0;34m\u001b[0m\u001b[0;34m\u001b[0m\u001b[0m\n\u001b[0m\u001b[1;32m   1044\u001b[0m \u001b[0;34m\u001b[0m\u001b[0m\n\u001b[1;32m   1045\u001b[0m     \u001b[0;32mdef\u001b[0m \u001b[0magg\u001b[0m\u001b[0;34m(\u001b[0m\u001b[0mself\u001b[0m\u001b[0;34m)\u001b[0m\u001b[0;34m:\u001b[0m\u001b[0;34m\u001b[0m\u001b[0;34m\u001b[0m\u001b[0m\n",
      "\u001b[0;32m~/.local/lib/python3.7/site-packages/pandas/core/apply.py\u001b[0m in \u001b[0;36mapply_standard\u001b[0;34m(self)\u001b[0m\n\u001b[1;32m   1099\u001b[0m                     \u001b[0mvalues\u001b[0m\u001b[0;34m,\u001b[0m\u001b[0;34m\u001b[0m\u001b[0;34m\u001b[0m\u001b[0m\n\u001b[1;32m   1100\u001b[0m                     \u001b[0mf\u001b[0m\u001b[0;34m,\u001b[0m  \u001b[0;31m# type: ignore[arg-type]\u001b[0m\u001b[0;34m\u001b[0m\u001b[0;34m\u001b[0m\u001b[0m\n\u001b[0;32m-> 1101\u001b[0;31m                     \u001b[0mconvert\u001b[0m\u001b[0;34m=\u001b[0m\u001b[0mself\u001b[0m\u001b[0;34m.\u001b[0m\u001b[0mconvert_dtype\u001b[0m\u001b[0;34m,\u001b[0m\u001b[0;34m\u001b[0m\u001b[0;34m\u001b[0m\u001b[0m\n\u001b[0m\u001b[1;32m   1102\u001b[0m                 )\n\u001b[1;32m   1103\u001b[0m \u001b[0;34m\u001b[0m\u001b[0m\n",
      "\u001b[0;32m~/.local/lib/python3.7/site-packages/pandas/_libs/lib.pyx\u001b[0m in \u001b[0;36mpandas._libs.lib.map_infer\u001b[0;34m()\u001b[0m\n",
      "\u001b[0;31mTypeError\u001b[0m: cleanTweet() missing 1 required positional argument: 'removeFromMiddle'"
     ]
    }
   ],
   "source": [
    "df['cleantxt'] = df['full_tweet_text'].apply(clean_tweet,False)"
   ]
  },
  {
   "cell_type": "code",
   "execution_count": 56,
   "id": "abroad-ballet",
   "metadata": {},
   "outputs": [
    {
     "data": {
      "text/plain": [
       "'See this Instagram post of #cat #sleeping #heatwave by #me #thisisme @digital_moravian https://t.co/F7KvYMTknc #pets #heat #humidity #GlobalWarming #weather #summer #sucks'"
      ]
     },
     "execution_count": 56,
     "metadata": {},
     "output_type": "execute_result"
    }
   ],
   "source": [
    "df.iloc[2]['full_tweet_text']"
   ]
  },
  {
   "cell_type": "code",
   "execution_count": 60,
   "id": "committed-crime",
   "metadata": {},
   "outputs": [
    {
     "data": {
      "text/plain": [
       "'See this Instagram post of cat sleeping heatwave by'"
      ]
     },
     "execution_count": 60,
     "metadata": {},
     "output_type": "execute_result"
    }
   ],
   "source": [
    "df.iloc[2]['cleantxt']"
   ]
  },
  {
   "cell_type": "code",
   "execution_count": 14,
   "id": "primary-pioneer",
   "metadata": {},
   "outputs": [
    {
     "data": {
      "text/plain": [
       "'do not know what you are doing'"
      ]
     },
     "execution_count": 14,
     "metadata": {},
     "output_type": "execute_result"
    }
   ],
   "source": [
    "txt = \"@realDonaldTrump You &amp; don't know what you are doing?\"\n",
    "cleanTweet(txt,False)"
   ]
  },
  {
   "cell_type": "code",
   "execution_count": 4,
   "id": "logical-guarantee",
   "metadata": {},
   "outputs": [],
   "source": [
    "import pandas as pd\n",
    "df = pd.read_feather(\"../notebooks/just_english_deduped_tweets.feather\")"
   ]
  },
  {
   "cell_type": "code",
   "execution_count": 5,
   "id": "difficult-single",
   "metadata": {},
   "outputs": [
    {
     "data": {
      "text/html": [
       "<div>\n",
       "<style scoped>\n",
       "    .dataframe tbody tr th:only-of-type {\n",
       "        vertical-align: middle;\n",
       "    }\n",
       "\n",
       "    .dataframe tbody tr th {\n",
       "        vertical-align: top;\n",
       "    }\n",
       "\n",
       "    .dataframe thead th {\n",
       "        text-align: right;\n",
       "    }\n",
       "</style>\n",
       "<table border=\"1\" class=\"dataframe\">\n",
       "  <thead>\n",
       "    <tr style=\"text-align: right;\">\n",
       "      <th></th>\n",
       "      <th>index</th>\n",
       "      <th>tweet_hash</th>\n",
       "      <th>full_tweet_text</th>\n",
       "      <th>normalized</th>\n",
       "    </tr>\n",
       "  </thead>\n",
       "  <tbody>\n",
       "    <tr>\n",
       "      <th>0</th>\n",
       "      <td>0</td>\n",
       "      <td>22e6e47dc0c2bc9fbc1a7789696c6726</td>\n",
       "      <td>Did you know it's #MentalHealthAwarenessWeek? ...</td>\n",
       "      <td>Did you know it's #MentalHealthAwarenessWeek ?...</td>\n",
       "    </tr>\n",
       "    <tr>\n",
       "      <th>1</th>\n",
       "      <td>2</td>\n",
       "      <td>8e4e77e1f94523737fc2d21be8038f10</td>\n",
       "      <td>@yourijebubabe @anu4real @meccuno @hon_ags @me...</td>\n",
       "      <td>@yourijebubabe @anu4real @meccuno @hon_ags @me...</td>\n",
       "    </tr>\n",
       "    <tr>\n",
       "      <th>2</th>\n",
       "      <td>4</td>\n",
       "      <td>18aa7fcb677841a2b4a533c79a57ba4a</td>\n",
       "      <td>But won't. Next.</td>\n",
       "      <td>But won't . Next .</td>\n",
       "    </tr>\n",
       "    <tr>\n",
       "      <th>3</th>\n",
       "      <td>8</td>\n",
       "      <td>16a8df8c9ba966acf5d49b35a74a3968</td>\n",
       "      <td>@alperkulpro You play the piano, you write boo...</td>\n",
       "      <td>@alperkulpro You play the piano , you write bo...</td>\n",
       "    </tr>\n",
       "    <tr>\n",
       "      <th>4</th>\n",
       "      <td>11</td>\n",
       "      <td>d20e1c435b47cfdb98717839b6f62084</td>\n",
       "      <td>We're delighted to launch the joint @RGS_IBG @...</td>\n",
       "      <td>We're delighted to launch the joint @RGS_IBG @...</td>\n",
       "    </tr>\n",
       "    <tr>\n",
       "      <th>...</th>\n",
       "      <td>...</td>\n",
       "      <td>...</td>\n",
       "      <td>...</td>\n",
       "      <td>...</td>\n",
       "    </tr>\n",
       "    <tr>\n",
       "      <th>5226768</th>\n",
       "      <td>7946188</td>\n",
       "      <td>4101a2dff4d053c9f0768692d76d39bf</td>\n",
       "      <td>hell yes    then they brag to know science.  F...</td>\n",
       "      <td>hell yes then they brag to know science . F th...</td>\n",
       "    </tr>\n",
       "    <tr>\n",
       "      <th>5226769</th>\n",
       "      <td>7946190</td>\n",
       "      <td>6ccc8f5f7978c17b5dd8fefe9c7863bb</td>\n",
       "      <td>Indian police detain a 9 year and 12 year old ...</td>\n",
       "      <td>Indian police detain a 9 year and 12 year old ...</td>\n",
       "    </tr>\n",
       "    <tr>\n",
       "      <th>5226770</th>\n",
       "      <td>7946192</td>\n",
       "      <td>1fcb510f14faaa7de2e1d0eb394c9825</td>\n",
       "      <td>Trump Tells Coronavirus, ‘I Surrender’ https:/...</td>\n",
       "      <td>Trump Tells Coronavirus , ‘ I Surrender ' HTTPURL</td>\n",
       "    </tr>\n",
       "    <tr>\n",
       "      <th>5226771</th>\n",
       "      <td>7946193</td>\n",
       "      <td>ccf380f9b46ddcd7a47e6d3eb4439dfe</td>\n",
       "      <td>The Biden-Harris energy plan will cause: energ...</td>\n",
       "      <td>The Biden-Harris energy plan will cause : ener...</td>\n",
       "    </tr>\n",
       "    <tr>\n",
       "      <th>5226772</th>\n",
       "      <td>7946194</td>\n",
       "      <td>9d01878c8db175642f05b8fcc120cabc</td>\n",
       "      <td>ITS FUCKING GRETA THUNBERG</td>\n",
       "      <td>ITS FUCKING GRETA THUNBERG</td>\n",
       "    </tr>\n",
       "  </tbody>\n",
       "</table>\n",
       "<p>5226773 rows × 4 columns</p>\n",
       "</div>"
      ],
      "text/plain": [
       "           index                        tweet_hash  \\\n",
       "0              0  22e6e47dc0c2bc9fbc1a7789696c6726   \n",
       "1              2  8e4e77e1f94523737fc2d21be8038f10   \n",
       "2              4  18aa7fcb677841a2b4a533c79a57ba4a   \n",
       "3              8  16a8df8c9ba966acf5d49b35a74a3968   \n",
       "4             11  d20e1c435b47cfdb98717839b6f62084   \n",
       "...          ...                               ...   \n",
       "5226768  7946188  4101a2dff4d053c9f0768692d76d39bf   \n",
       "5226769  7946190  6ccc8f5f7978c17b5dd8fefe9c7863bb   \n",
       "5226770  7946192  1fcb510f14faaa7de2e1d0eb394c9825   \n",
       "5226771  7946193  ccf380f9b46ddcd7a47e6d3eb4439dfe   \n",
       "5226772  7946194  9d01878c8db175642f05b8fcc120cabc   \n",
       "\n",
       "                                           full_tweet_text  \\\n",
       "0        Did you know it's #MentalHealthAwarenessWeek? ...   \n",
       "1        @yourijebubabe @anu4real @meccuno @hon_ags @me...   \n",
       "2                                         But won't. Next.   \n",
       "3        @alperkulpro You play the piano, you write boo...   \n",
       "4        We're delighted to launch the joint @RGS_IBG @...   \n",
       "...                                                    ...   \n",
       "5226768  hell yes    then they brag to know science.  F...   \n",
       "5226769  Indian police detain a 9 year and 12 year old ...   \n",
       "5226770  Trump Tells Coronavirus, ‘I Surrender’ https:/...   \n",
       "5226771  The Biden-Harris energy plan will cause: energ...   \n",
       "5226772                         ITS FUCKING GRETA THUNBERG   \n",
       "\n",
       "                                                normalized  \n",
       "0        Did you know it's #MentalHealthAwarenessWeek ?...  \n",
       "1        @yourijebubabe @anu4real @meccuno @hon_ags @me...  \n",
       "2                                       But won't . Next .  \n",
       "3        @alperkulpro You play the piano , you write bo...  \n",
       "4        We're delighted to launch the joint @RGS_IBG @...  \n",
       "...                                                    ...  \n",
       "5226768  hell yes then they brag to know science . F th...  \n",
       "5226769  Indian police detain a 9 year and 12 year old ...  \n",
       "5226770  Trump Tells Coronavirus , ‘ I Surrender ' HTTPURL  \n",
       "5226771  The Biden-Harris energy plan will cause : ener...  \n",
       "5226772                         ITS FUCKING GRETA THUNBERG  \n",
       "\n",
       "[5226773 rows x 4 columns]"
      ]
     },
     "execution_count": 5,
     "metadata": {},
     "output_type": "execute_result"
    }
   ],
   "source": []
  },
  {
   "cell_type": "code",
   "execution_count": null,
   "id": "confused-chase",
   "metadata": {},
   "outputs": [],
   "source": []
  }
 ],
 "metadata": {
  "kernelspec": {
   "display_name": "bert",
   "language": "python",
   "name": "bert"
  },
  "language_info": {
   "codemirror_mode": {
    "name": "ipython",
    "version": 3
   },
   "file_extension": ".py",
   "mimetype": "text/x-python",
   "name": "python",
   "nbconvert_exporter": "python",
   "pygments_lexer": "ipython3",
   "version": "3.9.12"
  }
 },
 "nbformat": 4,
 "nbformat_minor": 5
}
