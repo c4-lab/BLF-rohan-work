{
 "cells": [
  {
   "cell_type": "code",
   "execution_count": 2,
   "id": "confirmed-turner",
   "metadata": {},
   "outputs": [],
   "source": [
    "import pandas as pd\n",
    "#df = pd.read_csv(\"testbed1.csv\")"
   ]
  },
  {
   "cell_type": "code",
   "execution_count": 3,
   "id": "manufactured-pathology",
   "metadata": {},
   "outputs": [
    {
     "data": {
      "text/plain": [
       "<spacy_langdetect.spacy_langdetect.LanguageDetector at 0x17194c850>"
      ]
     },
     "execution_count": 3,
     "metadata": {},
     "output_type": "execute_result"
    }
   ],
   "source": [
    "import spacy\n",
    "from spacy_langdetect import LanguageDetector\n",
    "from spacy.language import Language\n",
    "nlp = spacy.load('en_core_web_lg')\n",
    "@Language.factory('language_detector')\n",
    "def language_detector(nlp, name):\n",
    "    return LanguageDetector()\n",
    "nlp.add_pipe('language_detector')"
   ]
  },
  {
   "cell_type": "code",
   "execution_count": 3,
   "id": "hybrid-adams",
   "metadata": {},
   "outputs": [],
   "source": [
    "data = df['full_tweet_text'].to_list()"
   ]
  },
  {
   "cell_type": "code",
   "execution_count": 4,
   "id": "entitled-brooklyn",
   "metadata": {},
   "outputs": [],
   "source": [
    "isEnglish = []\n",
    "for text in data:\n",
    "    doc = nlp(text)\n",
    "    if doc._.language['score']>0.95:\n",
    "        isEnglish.append(True)\n",
    "    else:\n",
    "        isEnglish.append(False)"
   ]
  },
  {
   "cell_type": "code",
   "execution_count": 6,
   "id": "pressed-shape",
   "metadata": {},
   "outputs": [],
   "source": [
    "df['iseng'] = isEnglish"
   ]
  },
  {
   "cell_type": "code",
   "execution_count": 8,
   "id": "adult-ottawa",
   "metadata": {},
   "outputs": [],
   "source": [
    "df = df[df['iseng'] == True]"
   ]
  },
  {
   "cell_type": "code",
   "execution_count": 78,
   "id": "julian-stopping",
   "metadata": {},
   "outputs": [
    {
     "data": {
      "text/plain": [
       "\"Agree . Nature will do what nature does. Like humans trying to change the climate. FoolsErrand GavinNewsom admits face masks don't work. They were required in all those places. And they did not stop the spread. And they won't. 8% have 🦇 Flu: 6K of 3.2M in CA have died 0.014%\""
      ]
     },
     "execution_count": 78,
     "metadata": {},
     "output_type": "execute_result"
    }
   ],
   "source": [
    "import sys\n",
    "from allTokens import *\n",
    "import os\n",
    "import time\n",
    "import pandas as pd\n",
    "from langdetect import detect\n",
    "\n",
    "extraChar = {'&quot;': '\"',\n",
    " '&amp;': 'and',\n",
    " '&lt;': '<',\n",
    " '&gt;': '>',\n",
    " '&nbsp;': 'un-linebreak-able space',\n",
    " '&iexcl;': '¡',\n",
    " '&cent;': '¢',\n",
    " '&pound;': '£',\n",
    " '&curren;': '¤',\n",
    " '&yen;': '¥',\n",
    " '&brvbar;': '¦',\n",
    " '&sect;': '§',\n",
    " '&uml;': '¨',\n",
    " '&copy;': '©',\n",
    " '&ordf;': 'ª',\n",
    " '&laquo;': '«',\n",
    " '&not;': '¬',\n",
    " '&shy;': '\\xad',\n",
    " '&reg;': '®',\n",
    " '&macr;': '¯',\n",
    " '&deg;': '°',\n",
    " '&plusmn;': '±',\n",
    " '&sup2': '²',\n",
    " '&sup3;': '³',\n",
    " '&acute;': '´',\n",
    " '&micro;': 'µ',\n",
    " '&para;': '¶',\n",
    " '&middot;': '·',\n",
    " '&cedil;': '¸',\n",
    " '&sup1;': '¹',\n",
    " '&ordm;': 'º',\n",
    " '&raquo;': '»',\n",
    " '&frac14;': '¼',\n",
    " '&frac12;': '½',\n",
    " '&frac34;': '¾',\n",
    " '&iquest;': '¿',\n",
    " '&times;': '×',\n",
    " '&divide;': '÷',\n",
    " '&ETH;': 'Ð',\n",
    " '&eth;': 'ð',\n",
    " '&THORN;': 'Þ',\n",
    " '&thorn;': 'þ',\n",
    " '&AElig;': 'Æ',\n",
    " '&aelig;': 'æ',\n",
    " '&OElig;': 'Œ',\n",
    " '&oelig;': 'œ',\n",
    " '&Aring;': 'Å',\n",
    " '&Oslash;': 'Ø',\n",
    " '&Ccedil;': 'Ç',\n",
    " '&ccedil;': 'ç',\n",
    " '&szlig;': 'ß',\n",
    " '&Ntilde;': 'Ñ',\n",
    " '&ntilde;': 'ñ'}\n",
    "\n",
    "special = {\n",
    "    \"’\":\"'\",\n",
    "    \"‘\":\"'\",\n",
    "    \"`\":\"'\",\n",
    "    '“':'\"',\n",
    "    '”':'\"',\n",
    "    '…':\".\"\n",
    "}\n",
    "        \n",
    "def removeTags(text,splitter):\n",
    "    div = text.split(splitter)\n",
    "    endExists = True\n",
    "    i = len(div)-1\n",
    "    while i>=0 and endExists:\n",
    "        if len(div[i].strip().split(\" \"))  == 1:\n",
    "            div.pop(i)\n",
    "            i-=1\n",
    "        else:\n",
    "            endExists = False\n",
    "        \n",
    "    return \" \"+splitter.join(div).strip()\n",
    "\n",
    "def removeTagsFromStart(text,splitter):\n",
    "    div = text.split(splitter)\n",
    "    endExists = True\n",
    "    i = 0\n",
    "    while len(div)>0 and endExists:\n",
    "        if len(div[i].strip().split(\" \"))  == 1:\n",
    "            div=div[i+1:]\n",
    "        else:\n",
    "            div[i] = splitter+div[i]\n",
    "            endExists = False\n",
    "    if len(div) == 0:\n",
    "        return ''\n",
    "    splitfirst = div[0].split(\" \")\n",
    "    if \"you\" in splitfirst[1].lower() and \"@\" in splitfirst[0]:\n",
    "        splitfirst[1] = splitfirst[0]\n",
    "        splitfirst = splitfirst[1:]\n",
    "        div[0] = \" \".join(splitfirst)\n",
    "    if \"@\" in splitfirst[0].strip()[0:2]:\n",
    "        splitfirst = splitfirst[1:]\n",
    "        div[0] = \" \".join(splitfirst)\n",
    "    return \" \".join(div).strip()\n",
    "\n",
    "\n",
    "def removeRT(text):\n",
    "    if text[0:2] == 'RT':\n",
    "        return \":\".join(text.split(\":\")[1:]).strip()\n",
    "    return text  \n",
    "\n",
    "def isEnglish(s):\n",
    "    try:\n",
    "        return(detect(s) == 'en')\n",
    "    except:\n",
    "        return('')\n",
    "\n",
    "def cleanTweet(text,removeFromMiddle):\n",
    "    text = text.strip()\n",
    "    for key,value in abbr_dict.items():\n",
    "        text = re.sub(key,value,text)\n",
    "    for key,value in extraChar.items():\n",
    "        text = re.sub(key,value,text)\n",
    "    for key,value in special.items():\n",
    "        text = re.sub(key,value,text)\n",
    "        #print(text)\n",
    "    if removeFromMiddle:\n",
    "        text = re.sub(\"@[A-Za-z0-9_]+\",\"\", text)\n",
    "        text = re.sub(\"#[A-Za-z0-9_]+\",\"\", text)\n",
    "    text = re.sub(r\"http\\S+\", \"\", text)\n",
    "    text = emoji_pattern.sub(r' ', text)\n",
    "    text = removeTags(text,\"#\")\n",
    "    text = removeTags(text,\"@\")\n",
    "    text = removeTags(text,\"#\")\n",
    "    text = removeTagsFromStart(text,\"@\")\n",
    "    text = removeRT(text)\n",
    "    text = re.sub(' +', ' ', text)\n",
    "    text = re.sub(\"@\",'',text)\n",
    "    text = re.sub(\"#\",'',text)\n",
    "    text = re.sub(r'[\\n\\r]+',r'\\n',text)\n",
    "    text = re.sub('(?<![.?!])\\n',\". \",text)\n",
    "    text = re.sub('\\n',\" \",text)\n",
    "    #text = ' '.join(text.replace('\\r', ' ').split())\n",
    "    text = re.sub(\"\\s+\",\" \",text)\n",
    "    #text = re.sub(r\"[^A-Za-z.!?'', ]\",'',text)\n",
    "    \n",
    "    if not isEnglish(text):\n",
    "        return ''\n",
    "    return text.strip()\n",
    "\n",
    "\n",
    "txt ='''Agree … Nature will do what nature does. Like humans trying to change the climate. #FoolsErrand @GavinNewsom admits face masks don’t work. They were required in all those places. And they did not stop the spread. And they won’t.  8% have 🦇 Flu: 6K of 3.2M in CA have died 0.014%'''\n",
    "cleanTweet(txt,False)\n"
   ]
  },
  {
   "cell_type": "code",
   "execution_count": 69,
   "id": "9dfe61a9",
   "metadata": {},
   "outputs": [
    {
     "data": {
      "text/plain": [
       "'The West Coast wildfires are what environmental injustice looks like. Only those who can afford air conditioners &amp; purifiers are able to escape the smoke. This is why we won’t stop fighting for a just, livable world for everyone. Our health depends on it. https://t.co/z58ZpkUvJ2'"
      ]
     },
     "execution_count": 69,
     "metadata": {},
     "output_type": "execute_result"
    }
   ],
   "source": [
    "txt ='''The West Coast wildfires are what environmental injustice looks like. Only those who can afford air conditioners &amp; purifiers are able to escape the smoke.\n",
    "\n",
    "This is why we won’t stop fighting for a just, livable world for everyone. Our health depends on it. https://t.co/z58ZpkUvJ2'''\n",
    "#txt.replace(r'(?<![.?!])\\n+',\". \")\n",
    "t = re.sub('[\\n\\r]+','\\n',txt)\n",
    "#re.sub('[\\n\\r]+',\". \",txt)\n",
    "t = re.sub('(?<![.?!])\\n',\". \",t)\n",
    "re.sub('\\n',\" \",t)\n"
   ]
  },
  {
   "cell_type": "code",
   "execution_count": 53,
   "id": "urban-frederick",
   "metadata": {},
   "outputs": [
    {
     "ename": "TypeError",
     "evalue": "cleanTweet() missing 1 required positional argument: 'removeFromMiddle'",
     "output_type": "error",
     "traceback": [
      "\u001b[0;31m---------------------------------------------------------------------------\u001b[0m",
      "\u001b[0;31mTypeError\u001b[0m                                 Traceback (most recent call last)",
      "\u001b[0;32m<ipython-input-53-902ad648ca67>\u001b[0m in \u001b[0;36m<module>\u001b[0;34m\u001b[0m\n\u001b[0;32m----> 1\u001b[0;31m \u001b[0mdf\u001b[0m\u001b[0;34m[\u001b[0m\u001b[0;34m'cleantxt'\u001b[0m\u001b[0;34m]\u001b[0m \u001b[0;34m=\u001b[0m \u001b[0mdf\u001b[0m\u001b[0;34m[\u001b[0m\u001b[0;34m'full_tweet_text'\u001b[0m\u001b[0;34m]\u001b[0m\u001b[0;34m.\u001b[0m\u001b[0mapply\u001b[0m\u001b[0;34m(\u001b[0m\u001b[0mcleanTweet\u001b[0m\u001b[0;34m,\u001b[0m\u001b[0;32mFalse\u001b[0m\u001b[0;34m)\u001b[0m\u001b[0;34m\u001b[0m\u001b[0;34m\u001b[0m\u001b[0m\n\u001b[0m",
      "\u001b[0;32m~/.local/lib/python3.7/site-packages/pandas/core/series.py\u001b[0m in \u001b[0;36mapply\u001b[0;34m(self, func, convert_dtype, args, **kwargs)\u001b[0m\n\u001b[1;32m   4355\u001b[0m         \u001b[0mdtype\u001b[0m\u001b[0;34m:\u001b[0m \u001b[0mfloat64\u001b[0m\u001b[0;34m\u001b[0m\u001b[0;34m\u001b[0m\u001b[0m\n\u001b[1;32m   4356\u001b[0m         \"\"\"\n\u001b[0;32m-> 4357\u001b[0;31m         \u001b[0;32mreturn\u001b[0m \u001b[0mSeriesApply\u001b[0m\u001b[0;34m(\u001b[0m\u001b[0mself\u001b[0m\u001b[0;34m,\u001b[0m \u001b[0mfunc\u001b[0m\u001b[0;34m,\u001b[0m \u001b[0mconvert_dtype\u001b[0m\u001b[0;34m,\u001b[0m \u001b[0margs\u001b[0m\u001b[0;34m,\u001b[0m \u001b[0mkwargs\u001b[0m\u001b[0;34m)\u001b[0m\u001b[0;34m.\u001b[0m\u001b[0mapply\u001b[0m\u001b[0;34m(\u001b[0m\u001b[0;34m)\u001b[0m\u001b[0;34m\u001b[0m\u001b[0;34m\u001b[0m\u001b[0m\n\u001b[0m\u001b[1;32m   4358\u001b[0m \u001b[0;34m\u001b[0m\u001b[0m\n\u001b[1;32m   4359\u001b[0m     def _reduce(\n",
      "\u001b[0;32m~/.local/lib/python3.7/site-packages/pandas/core/apply.py\u001b[0m in \u001b[0;36mapply\u001b[0;34m(self)\u001b[0m\n\u001b[1;32m   1041\u001b[0m             \u001b[0;32mreturn\u001b[0m \u001b[0mself\u001b[0m\u001b[0;34m.\u001b[0m\u001b[0mapply_str\u001b[0m\u001b[0;34m(\u001b[0m\u001b[0;34m)\u001b[0m\u001b[0;34m\u001b[0m\u001b[0;34m\u001b[0m\u001b[0m\n\u001b[1;32m   1042\u001b[0m \u001b[0;34m\u001b[0m\u001b[0m\n\u001b[0;32m-> 1043\u001b[0;31m         \u001b[0;32mreturn\u001b[0m \u001b[0mself\u001b[0m\u001b[0;34m.\u001b[0m\u001b[0mapply_standard\u001b[0m\u001b[0;34m(\u001b[0m\u001b[0;34m)\u001b[0m\u001b[0;34m\u001b[0m\u001b[0;34m\u001b[0m\u001b[0m\n\u001b[0m\u001b[1;32m   1044\u001b[0m \u001b[0;34m\u001b[0m\u001b[0m\n\u001b[1;32m   1045\u001b[0m     \u001b[0;32mdef\u001b[0m \u001b[0magg\u001b[0m\u001b[0;34m(\u001b[0m\u001b[0mself\u001b[0m\u001b[0;34m)\u001b[0m\u001b[0;34m:\u001b[0m\u001b[0;34m\u001b[0m\u001b[0;34m\u001b[0m\u001b[0m\n",
      "\u001b[0;32m~/.local/lib/python3.7/site-packages/pandas/core/apply.py\u001b[0m in \u001b[0;36mapply_standard\u001b[0;34m(self)\u001b[0m\n\u001b[1;32m   1099\u001b[0m                     \u001b[0mvalues\u001b[0m\u001b[0;34m,\u001b[0m\u001b[0;34m\u001b[0m\u001b[0;34m\u001b[0m\u001b[0m\n\u001b[1;32m   1100\u001b[0m                     \u001b[0mf\u001b[0m\u001b[0;34m,\u001b[0m  \u001b[0;31m# type: ignore[arg-type]\u001b[0m\u001b[0;34m\u001b[0m\u001b[0;34m\u001b[0m\u001b[0m\n\u001b[0;32m-> 1101\u001b[0;31m                     \u001b[0mconvert\u001b[0m\u001b[0;34m=\u001b[0m\u001b[0mself\u001b[0m\u001b[0;34m.\u001b[0m\u001b[0mconvert_dtype\u001b[0m\u001b[0;34m,\u001b[0m\u001b[0;34m\u001b[0m\u001b[0;34m\u001b[0m\u001b[0m\n\u001b[0m\u001b[1;32m   1102\u001b[0m                 )\n\u001b[1;32m   1103\u001b[0m \u001b[0;34m\u001b[0m\u001b[0m\n",
      "\u001b[0;32m~/.local/lib/python3.7/site-packages/pandas/_libs/lib.pyx\u001b[0m in \u001b[0;36mpandas._libs.lib.map_infer\u001b[0;34m()\u001b[0m\n",
      "\u001b[0;31mTypeError\u001b[0m: cleanTweet() missing 1 required positional argument: 'removeFromMiddle'"
     ]
    }
   ],
   "source": [
    "df['cleantxt'] = df['full_tweet_text'].apply(clean_tweet,False)"
   ]
  },
  {
   "cell_type": "code",
   "execution_count": 56,
   "id": "congressional-wrapping",
   "metadata": {},
   "outputs": [
    {
     "data": {
      "text/plain": [
       "'See this Instagram post of #cat #sleeping #heatwave by #me #thisisme @digital_moravian https://t.co/F7KvYMTknc #pets #heat #humidity #GlobalWarming #weather #summer #sucks'"
      ]
     },
     "execution_count": 56,
     "metadata": {},
     "output_type": "execute_result"
    }
   ],
   "source": [
    "df.iloc[2]['full_tweet_text']"
   ]
  },
  {
   "cell_type": "code",
   "execution_count": 60,
   "id": "accompanied-whole",
   "metadata": {},
   "outputs": [
    {
     "data": {
      "text/plain": [
       "'See this Instagram post of cat sleeping heatwave by'"
      ]
     },
     "execution_count": 60,
     "metadata": {},
     "output_type": "execute_result"
    }
   ],
   "source": [
    "df.iloc[2]['cleantxt']"
   ]
  },
  {
   "cell_type": "code",
   "execution_count": 14,
   "id": "approved-member",
   "metadata": {},
   "outputs": [
    {
     "data": {
      "text/plain": [
       "'do not know what you are doing'"
      ]
     },
     "execution_count": 14,
     "metadata": {},
     "output_type": "execute_result"
    }
   ],
   "source": [
    "txt = \"@realDonaldTrump You &amp; don't know what you are doing?\"\n",
    "cleanTweet(txt,False)"
   ]
  },
  {
   "cell_type": "code",
   "execution_count": 12,
   "id": "4cda7665",
   "metadata": {},
   "outputs": [
    {
     "name": "stdout",
     "output_type": "stream",
     "text": [
      "@realDonaldTrump You &amp; don't know what you are doing?\n",
      "@realDonaldTrump You & don't know what you are doing?\n",
      "@realDonaldTrump You &amp; don't know what you are doing?\n",
      "@realDonaldTrump You &amp; don't know what you are doing?\n",
      "@realDonaldTrump You &amp; don't know what you are doing?\n",
      "@realDonaldTrump You &amp; don't know what you are doing?\n",
      "@realDonaldTrump You &amp; don't know what you are doing?\n",
      "@realDonaldTrump You &amp; don't know what you are doing?\n",
      "@realDonaldTrump You &amp; don't know what you are doing?\n",
      "@realDonaldTrump You &amp; don't know what you are doing?\n",
      "@realDonaldTrump You &amp; don't know what you are doing?\n",
      "@realDonaldTrump You &amp; don't know what you are doing?\n",
      "@realDonaldTrump You &amp; don't know what you are doing?\n",
      "@realDonaldTrump You &amp; don't know what you are doing?\n",
      "@realDonaldTrump You &amp; don't know what you are doing?\n",
      "@realDonaldTrump You &amp; don't know what you are doing?\n",
      "@realDonaldTrump You &amp; don't know what you are doing?\n",
      "@realDonaldTrump You &amp; don't know what you are doing?\n",
      "@realDonaldTrump You &amp; don't know what you are doing?\n",
      "@realDonaldTrump You &amp; don't know what you are doing?\n",
      "@realDonaldTrump You &amp; don't know what you are doing?\n",
      "@realDonaldTrump You &amp; don't know what you are doing?\n",
      "@realDonaldTrump You &amp; don't know what you are doing?\n",
      "@realDonaldTrump You &amp; don't know what you are doing?\n",
      "@realDonaldTrump You &amp; don't know what you are doing?\n",
      "@realDonaldTrump You &amp; don't know what you are doing?\n",
      "@realDonaldTrump You &amp; don't know what you are doing?\n",
      "@realDonaldTrump You &amp; don't know what you are doing?\n",
      "@realDonaldTrump You &amp; don't know what you are doing?\n",
      "@realDonaldTrump You &amp; don't know what you are doing?\n",
      "@realDonaldTrump You &amp; don't know what you are doing?\n",
      "@realDonaldTrump You &amp; don't know what you are doing?\n",
      "@realDonaldTrump You &amp; don't know what you are doing?\n",
      "@realDonaldTrump You &amp; don't know what you are doing?\n",
      "@realDonaldTrump You &amp; don't know what you are doing?\n",
      "@realDonaldTrump You &amp; don't know what you are doing?\n",
      "@realDonaldTrump You &amp; don't know what you are doing?\n",
      "@realDonaldTrump You &amp; don't know what you are doing?\n",
      "@realDonaldTrump You &amp; don't know what you are doing?\n",
      "@realDonaldTrump You &amp; don't know what you are doing?\n",
      "@realDonaldTrump You &amp; don't know what you are doing?\n",
      "@realDonaldTrump You &amp; don't know what you are doing?\n",
      "@realDonaldTrump You &amp; don't know what you are doing?\n",
      "@realDonaldTrump You &amp; don't know what you are doing?\n",
      "@realDonaldTrump You &amp; don't know what you are doing?\n",
      "@realDonaldTrump You &amp; don't know what you are doing?\n",
      "@realDonaldTrump You &amp; don't know what you are doing?\n",
      "@realDonaldTrump You &amp; don't know what you are doing?\n",
      "@realDonaldTrump You &amp; don't know what you are doing?\n",
      "@realDonaldTrump You &amp; don't know what you are doing?\n",
      "@realDonaldTrump You &amp; don't know what you are doing?\n",
      "@realDonaldTrump You &amp; don't know what you are doing?\n",
      "@realDonaldTrump You &amp; don't know what you are doing?\n"
     ]
    }
   ],
   "source": [
    "for key,value in extraChar.items():\n",
    "        print(re.sub(key,value,txt))"
   ]
  }
 ],
 "metadata": {
  "kernelspec": {
   "display_name": "Python 3 (ipykernel)",
   "language": "python",
   "name": "python3"
  },
  "language_info": {
   "codemirror_mode": {
    "name": "ipython",
    "version": 3
   },
   "file_extension": ".py",
   "mimetype": "text/x-python",
   "name": "python",
   "nbconvert_exporter": "python",
   "pygments_lexer": "ipython3",
   "version": "3.8.10"
  }
 },
 "nbformat": 4,
 "nbformat_minor": 5
}
